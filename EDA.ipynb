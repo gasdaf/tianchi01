{
 "cells": [
  {
   "cell_type": "code",
   "execution_count": null,
   "metadata": {},
   "outputs": [],
   "source": [
    "import numpy as np\n",
    "import pandas as pd\n",
    "import seaborn as sns\n",
    "import matplotlit.pyplot as plt\n",
    "import pandas_profiling"
   ]
  },
  {
   "cell_type": "markdown",
   "metadata": {},
   "source": [
    "# 数据概况\n",
    "\n",
    "## 特征字段\n",
    "|Field|Description|备注|\n",
    "|--|--|--|\n",
    "|SaleID|\t交易ID|唯一编码|\n",
    "|name|\t汽车交易名称|已脱敏|\n",
    "|regDate|\t汽车注册日期|例如20160101，2016年01月01日|\n",
    "|model|\t车型编码|已脱敏|\n",
    "|brand|\t汽车品牌|已脱敏|\n",
    "|bodyType|\t车身类型|豪华轿车：0，微型车：1，厢型车：2，大巴车：3，敞篷车：4，双门汽车：5，商务车：6，搅拌车：7|\n",
    "|fuelType|\t燃油类型|汽油：0，柴油：1，液化石油气：2，天然气：3，混合动力：4，其他：5，电动：6|\n",
    "|gearbox|\t变速箱|手动：0，自动：1|\n",
    "|power|\t发动机功率|范围 [ 0, 600 ]|\n",
    "|kilometer|\t汽车已行驶公里|单位万km|\n",
    "|notRepairedDamage|\t汽车有尚未修复的损坏|是：0，否：1|\n",
    "|regionCode|\t地区编码|已脱敏|\n",
    "|seller|\t销售方|个体：0，非个体：|\n",
    "|offerType|\t报价类型|提供：0，请求：1|\n",
    "|creatDate|\t汽车上线时间|即开始售卖时间|\n",
    "|**price**|二手车交易价格|（预测目标）|\n",
    "|v0-14|\t匿名特征|包含v0-14在内15个匿名特征|\n",
    "\n",
    "## 评价指标\n",
    "$$MAE=\\frac{\\sum_{i=1}^{n}|y_i-\\hat{y}_i|}{n}$$"
   ]
  },
  {
   "cell_type": "markdown",
   "metadata": {},
   "source": [
    "## 总结\n",
    "本题是一个回归，特征有一些是数值特征、类型特征、时间特征。"
   ]
  },
  {
   "cell_type": "markdown",
   "metadata": {},
   "source": [
    "# 数据准备"
   ]
  },
  {
   "cell_type": "code",
   "execution_count": null,
   "metadata": {},
   "outputs": [],
   "source": []
  }
 ],
 "metadata": {
  "kernelspec": {
   "display_name": "Python 3",
   "language": "python",
   "name": "python3"
  },
  "language_info": {
   "codemirror_mode": {
    "name": "ipython",
    "version": 3
   },
   "file_extension": ".py",
   "mimetype": "text/x-python",
   "name": "python",
   "nbconvert_exporter": "python",
   "pygments_lexer": "ipython3",
   "version": "3.7.4"
  },
  "toc": {
   "base_numbering": 1,
   "nav_menu": {},
   "number_sections": true,
   "sideBar": true,
   "skip_h1_title": false,
   "title_cell": "Table of Contents",
   "title_sidebar": "Contents",
   "toc_cell": false,
   "toc_position": {},
   "toc_section_display": true,
   "toc_window_display": false
  }
 },
 "nbformat": 4,
 "nbformat_minor": 2
}
